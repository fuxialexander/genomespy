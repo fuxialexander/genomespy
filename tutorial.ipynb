{
 "cells": [
  {
   "cell_type": "code",
   "execution_count": 6,
   "metadata": {},
   "outputs": [
    {
     "data": {
      "text/html": [
       "\n",
       "        <iframe\n",
       "            width=\"100%\"\n",
       "            height=\"660\"\n",
       "            src=\"http://localhost:56940/.genomespy_temp_14101.html\"\n",
       "            frameborder=\"0\"\n",
       "            allowfullscreen\n",
       "            \n",
       "        ></iframe>\n",
       "        "
      ],
      "text/plain": [
       "<IPython.lib.display.IFrame at 0x13f885cc0>"
      ]
     },
     "metadata": {},
     "output_type": "display_data"
    }
   ],
   "source": [
    "import pandas as pd\n",
    "\n",
    "from genomespy import GenomeSpy, igv\n",
    "\n",
    "tracks = {\n",
    "    \"ZBTB7A\": {\n",
    "        \"url\": \"https://chip-atlas.dbcls.jp/data/hg38/eachData/bw/SRX3161009.bw\",\n",
    "        \"height\": 40,\n",
    "        \"type\": \"bigwig\"\n",
    "    }}\n",
    "plot = igv(tracks, region={\"chrom\": \"chr7\", \"start\": 66600000, \"end\": 66800000})\n",
    "plot.show()"
   ]
  },
  {
   "cell_type": "code",
   "execution_count": 7,
   "metadata": {},
   "outputs": [
    {
     "data": {
      "text/html": [
       "\n",
       "        <iframe\n",
       "            width=\"100%\"\n",
       "            height=\"640\"\n",
       "            src=\"http://localhost:56956/.genomespy_temp_14101.html\"\n",
       "            frameborder=\"0\"\n",
       "            allowfullscreen\n",
       "            \n",
       "        ></iframe>\n",
       "        "
      ],
      "text/plain": [
       "<IPython.lib.display.IFrame at 0x13f884e20>"
      ]
     },
     "metadata": {},
     "output_type": "display_data"
    }
   ],
   "source": [
    "\n",
    "# Create a plot\n",
    "plot = GenomeSpy()\n",
    "\n",
    "# Define data and visualization\n",
    "plot.data(pd.DataFrame({'x': [1, 2, 3], 'y': [4, 5, 6]})) \\\n",
    "     .mark('point') \\\n",
    "     .encode(x={'field': 'x', 'type': 'quantitative'}, y={'field': 'y', 'type': 'quantitative'}) \\\n",
    "     .transform([{'type': 'filter', 'expr': 'datum.x > 1'}]) \\\n",
    "     .scale(x={'domain': [0, 5]}) \\\n",
    "     .view({'name': 'main_view'}) \\\n",
    "     .expression('expr1', 'datum.x * 2') \\\n",
    "     .parameter('param1', 10)\n",
    "\n",
    "# Show the plot\n",
    "plot.show()"
   ]
  },
  {
   "cell_type": "code",
   "execution_count": 8,
   "metadata": {},
   "outputs": [
    {
     "data": {
      "text/html": [
       "\n",
       "        <iframe\n",
       "            width=\"100%\"\n",
       "            height=\"640\"\n",
       "            src=\"http://localhost:56957/.genomespy_temp_14101.html\"\n",
       "            frameborder=\"0\"\n",
       "            allowfullscreen\n",
       "            \n",
       "        ></iframe>\n",
       "        "
      ],
      "text/plain": [
       "<IPython.lib.display.IFrame at 0x13f8866e0>"
      ]
     },
     "metadata": {},
     "output_type": "display_data"
    }
   ],
   "source": [
    "import numpy as np\n",
    "# Create a sample DataFrame\n",
    "data = pd.DataFrame(\n",
    "    np.random.rand(10, 10),  # 10x10 matrix of random numbers\n",
    "    index=[f\"Row{i}\" for i in range(10)],\n",
    "    columns=[f\"Col{i}\" for i in range(10)]\n",
    ")\n",
    "\n",
    "# Create a GenomeSpy instance\n",
    "plot = GenomeSpy()\n",
    "\n",
    "# Generate a heatmap\n",
    "plot.clustermap(data, x_label=\"Columns\", y_label=\"Rows\", \n",
    "                z_score=1, method=\"ward\", metric=\"euclidean\", \n",
    "                row_cluster=True, col_cluster=True,\n",
    "                vmax=1, vmin=0, center=0.5, cmap=\"viridis\")\n",
    "\n",
    "# Display the heatmap\n",
    "plot.show()"
   ]
  },
  {
   "cell_type": "code",
   "execution_count": 9,
   "metadata": {},
   "outputs": [],
   "source": [
    "plot.close()"
   ]
  },
  {
   "cell_type": "code",
   "execution_count": null,
   "metadata": {},
   "outputs": [],
   "source": []
  }
 ],
 "metadata": {
  "kernelspec": {
   "display_name": "Python 3 (ipykernel)",
   "language": "python",
   "name": "python3"
  },
  "language_info": {
   "codemirror_mode": {
    "name": "ipython",
    "version": 3
   },
   "file_extension": ".py",
   "mimetype": "text/x-python",
   "name": "python",
   "nbconvert_exporter": "python",
   "pygments_lexer": "ipython3",
   "version": "3.10.16"
  }
 },
 "nbformat": 4,
 "nbformat_minor": 4
}
